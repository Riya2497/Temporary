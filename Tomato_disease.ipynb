{
  "nbformat": 4,
  "nbformat_minor": 0,
  "metadata": {
    "colab": {
      "name": "Tomato disease.ipynb",
      "provenance": [],
      "collapsed_sections": []
    },
    "kernelspec": {
      "name": "python3",
      "display_name": "Python 3"
    },
    "language_info": {
      "name": "python"
    }
  },
  "cells": [
    {
      "cell_type": "code",
      "metadata": {
        "colab": {
          "base_uri": "https://localhost:8080/"
        },
        "id": "1L_aL1VRfjuG",
        "outputId": "3cea9858-21dd-437e-adeb-9dc65470bbf7"
      },
      "source": [
        "from google.colab import drive\n",
        "drive.mount('/content/drive')"
      ],
      "execution_count": null,
      "outputs": [
        {
          "output_type": "stream",
          "text": [
            "Mounted at /content/drive\n"
          ],
          "name": "stdout"
        }
      ]
    },
    {
      "cell_type": "code",
      "metadata": {
        "colab": {
          "base_uri": "https://localhost:8080/"
        },
        "id": "ui4Kc0RxhyCB",
        "outputId": "339263f9-5b95-4608-dd86-55ee588a9c76"
      },
      "source": [
        "%cd '/content/drive/MyDrive/tomato leaf disease/'\n",
        "!ls"
      ],
      "execution_count": null,
      "outputs": [
        {
          "output_type": "stream",
          "text": [
            "/content/drive/MyDrive/tomato leaf disease\n",
            "dataset  train.zip\n"
          ],
          "name": "stdout"
        }
      ]
    },
    {
      "cell_type": "code",
      "metadata": {
        "colab": {
          "base_uri": "https://localhost:8080/"
        },
        "id": "LQn9zlAD7E26",
        "outputId": "16bb802b-d894-4eee-c583-02750a1dd86c"
      },
      "source": [
        "!pip install mahotas"
      ],
      "execution_count": null,
      "outputs": [
        {
          "output_type": "stream",
          "text": [
            "Collecting mahotas\n",
            "\u001b[?25l  Downloading https://files.pythonhosted.org/packages/19/ad/553b246b0a35dccc3ed58dc8889a67124bf5ab858e9c6b7255d56086e70c/mahotas-1.4.11-cp37-cp37m-manylinux2010_x86_64.whl (5.7MB)\n",
            "\u001b[K     |████████████████████████████████| 5.7MB 3.8MB/s \n",
            "\u001b[?25hRequirement already satisfied: numpy in /usr/local/lib/python3.7/dist-packages (from mahotas) (1.19.5)\n",
            "Installing collected packages: mahotas\n",
            "Successfully installed mahotas-1.4.11\n"
          ],
          "name": "stdout"
        }
      ]
    },
    {
      "cell_type": "markdown",
      "metadata": {
        "id": "YW5Dss3yLgMb"
      },
      "source": [
        "Import Libraries"
      ]
    },
    {
      "cell_type": "code",
      "metadata": {
        "id": "3K4PQWGejQZT"
      },
      "source": [
        "import os\n",
        "import cv2\n",
        "import numpy as np\n",
        "import pandas as pd\n",
        "from PIL import Image\n",
        "import matplotlib.pyplot as plt\n",
        "from sklearn.model_selection import train_test_split\n",
        "import mahotas as mt\n",
        "\n",
        "from skimage.feature import hog\n",
        "from skimage.color import rgb2grey\n",
        "\n",
        "from sklearn.model_selection import train_test_split\n",
        "from sklearn.metrics import accuracy_score\n",
        "from sklearn.preprocessing import StandardScaler\n",
        "from sklearn.decomposition import PCA\n",
        "from sklearn.svm import SVC\n",
        "\n",
        "from sklearn.metrics import roc_curve, auc"
      ],
      "execution_count": null,
      "outputs": []
    },
    {
      "cell_type": "markdown",
      "metadata": {
        "id": "fOgJBEMfLkjB"
      },
      "source": [
        "#Load Dataset"
      ]
    },
    {
      "cell_type": "code",
      "metadata": {
        "colab": {
          "base_uri": "https://localhost:8080/"
        },
        "id": "TcFlsygfihDj",
        "outputId": "a26f464a-d015-4ff1-b660-74d209e45291"
      },
      "source": [
        "fpath = \"dataset/train/\"\n",
        "random_seed = 111\n",
        "\n",
        "categories = os.listdir(fpath)\n",
        "print(\"List of categories = \",categories,\"\\n\\nNo. of categories = \", len(categories))"
      ],
      "execution_count": null,
      "outputs": [
        {
          "output_type": "stream",
          "text": [
            "List of categories =  ['Tomato___Bacterial_spot', 'Tomato___Early_blight', 'Tomato___healthy', 'Tomato___Late_blight', 'Tomato___Leaf_Mold', 'Tomato___Septoria_leaf_spot', 'Tomato___Spider_mites Two-spotted_spider_mite', 'Tomato___Target_Spot', 'Tomato___Tomato_mosaic_virus', 'Tomato___Tomato_Yellow_Leaf_Curl_Virus'] \n",
            "\n",
            "No. of categories =  10\n"
          ],
          "name": "stdout"
        }
      ]
    },
    {
      "cell_type": "code",
      "metadata": {
        "colab": {
          "base_uri": "https://localhost:8080/"
        },
        "id": "huYaEG-YjcDj",
        "outputId": "27e462ab-6e8a-4c1a-f99a-493eb17b02e8"
      },
      "source": [
        "def load_images_and_labels(categories):\n",
        "    img_lst=[]\n",
        "    labels=[]\n",
        "    names = ['mean_r','mean_g','mean_b','stddev_r','stddev_g','stddev_b', \\\n",
        "             'contrast','correlation','inverse_difference_moments','entropy'\n",
        "            ]\n",
        "    df = pd.DataFrame([], columns=names)\n",
        "    for index, category in enumerate(categories):\n",
        "        for image_name in os.listdir(fpath+\"/\"+category)[:100]:\n",
        "            file_ext = image_name.split(\".\")[-1]\n",
        "            if (file_ext.lower() == \"jpg\") or (file_ext.lower() == \"jpeg\"):\n",
        "                  main_img = cv2.imread(fpath+\"/\"+category+\"/\"+image_name)\n",
        "\n",
        "                  #Preprocessing\n",
        "                  img = cv2.cvtColor(main_img, cv2.COLOR_BGR2RGB)\n",
        "                  gs = cv2.cvtColor(img,cv2.COLOR_RGB2GRAY)\n",
        "                  blur = cv2.GaussianBlur(gs, (25,25),0) \n",
        "                  #automatically calculates a threshold value from image histogram for a bimodal image\n",
        "                  ret_otsu,im_bw_otsu = cv2.threshold(blur,0,255,cv2.THRESH_BINARY_INV+cv2.THRESH_OTSU) #adaptive thresholding \n",
        "                  kernel = np.ones((50,50),np.uint8)\n",
        "                  closing = cv2.morphologyEx(im_bw_otsu, cv2.MORPH_CLOSE, kernel)\n",
        "                  \n",
        "                  #Color features\n",
        "                  red_channel = img[:,:,0]\n",
        "                  green_channel = img[:,:,1]\n",
        "                  blue_channel = img[:,:,2] \n",
        "                  blue_channel[blue_channel == 255] = 0\n",
        "                  green_channel[green_channel == 255] = 0\n",
        "                  red_channel[red_channel == 255] = 0\n",
        "                  \n",
        "                  \n",
        "                  red_mean = np.mean(red_channel)\n",
        "                  green_mean = np.mean(green_channel)\n",
        "                  blue_mean = np.mean(blue_channel)\n",
        "                  \n",
        "                  red_std = np.std(red_channel)\n",
        "                  green_std = np.std(green_channel)\n",
        "                  blue_std = np.std(blue_channel)\n",
        "                  \n",
        "                  #Texture features\n",
        "                  #mahotas is computer vision and image processing library \n",
        "                  textures = mt.features.haralick(gs) #to get some rotational invariance\n",
        "                  ht_mean = textures.mean(axis=0)\n",
        "                  contrast = ht_mean[1]\n",
        "                  correlation = ht_mean[2] #how correlated a pixel is to its neighborhood\n",
        "                  inverse_diff_moments = ht_mean[4] #measures image homogeneity\n",
        "                  entropy = ht_mean[8] #measure of randomness of intensity image\n",
        "                  \n",
        "                  vector = [ red_mean,green_mean,blue_mean,red_std,green_std,blue_std,\\\n",
        "                            contrast,correlation,inverse_diff_moments,entropy\n",
        "                          ]\n",
        "                  \n",
        "                  \n",
        "                  df_temp = pd.DataFrame([vector],columns=names)\n",
        "                  df = df.append(df_temp)\n",
        "                  labels.append(index)\n",
        "                \n",
        "    return df, labels\n",
        "\n",
        "images, labels = load_images_and_labels(categories)\n",
        "print(\"No. of images loaded = \",len(images),\"\\nNo. of labels loaded = \",len(labels))\n",
        "print(type(images),type(labels))"
      ],
      "execution_count": null,
      "outputs": [
        {
          "output_type": "stream",
          "text": [
            "No. of images loaded =  1000 \n",
            "No. of labels loaded =  1000\n",
            "<class 'pandas.core.frame.DataFrame'> <class 'list'>\n"
          ],
          "name": "stdout"
        }
      ]
    },
    {
      "cell_type": "code",
      "metadata": {
        "colab": {
          "base_uri": "https://localhost:8080/"
        },
        "id": "mkFgSLrTkAeG",
        "outputId": "19152e51-7e9a-44c9-b3e3-35bb804199d0"
      },
      "source": [
        "labels = np.array(labels)\n",
        "print(\"Images shape = \",images.shape,\"\\nLabels shape = \",labels.shape)\n",
        "print(type(images),type(labels))"
      ],
      "execution_count": null,
      "outputs": [
        {
          "output_type": "stream",
          "text": [
            "Images shape =  (1000, 10) \n",
            "Labels shape =  (1000,)\n",
            "<class 'pandas.core.frame.DataFrame'> <class 'numpy.ndarray'>\n"
          ],
          "name": "stdout"
        }
      ]
    },
    {
      "cell_type": "markdown",
      "metadata": {
        "id": "umS5JW5TffOn"
      },
      "source": [
        "#Train Test Split"
      ]
    },
    {
      "cell_type": "code",
      "metadata": {
        "colab": {
          "base_uri": "https://localhost:8080/"
        },
        "id": "C8QqoPyQkiVZ",
        "outputId": "7dc63abc-7785-4f99-fd31-c899220f7a12"
      },
      "source": [
        "X_train, X_test, y_train, y_test = train_test_split(images, labels, test_size = 0.1, random_state = 0)\n",
        "\n",
        "print(\"x_train shape = \",X_train.shape)\n",
        "print(\"y_train shape = \",y_train.shape)\n",
        "print(\"\\nx_test shape = \",X_test.shape)\n",
        "print(\"y_test shape = \",y_test.shape)\n"
      ],
      "execution_count": null,
      "outputs": [
        {
          "output_type": "stream",
          "text": [
            "x_train shape =  (900, 10)\n",
            "y_train shape =  (900,)\n",
            "\n",
            "x_test shape =  (100, 10)\n",
            "y_test shape =  (100,)\n"
          ],
          "name": "stdout"
        }
      ]
    },
    {
      "cell_type": "markdown",
      "metadata": {
        "id": "UOVOkv2ZfkyE"
      },
      "source": [
        "##Standardization and scaling"
      ]
    },
    {
      "cell_type": "code",
      "metadata": {
        "id": "mso38QXflJBU"
      },
      "source": [
        "from sklearn.preprocessing import StandardScaler\n",
        "sc = StandardScaler()\n",
        "X_train = sc.fit_transform(X_train) #mean and std deviation \n",
        "X_test = sc.transform(X_test) "
      ],
      "execution_count": null,
      "outputs": []
    },
    {
      "cell_type": "markdown",
      "metadata": {
        "id": "A4l14IomfxAF"
      },
      "source": [
        "##PCA "
      ]
    },
    {
      "cell_type": "code",
      "metadata": {
        "colab": {
          "base_uri": "https://localhost:8080/"
        },
        "id": "wLl51Fn7oqhH",
        "outputId": "48490453-d308-4801-e1a1-6828291f8cd9"
      },
      "source": [
        "from sklearn.decomposition import PCA\n",
        "print(X_test.shape)\n",
        "pca = PCA(n_components = 8)\n",
        "X_train = pca.fit_transform(X_train)\n",
        "X_test = pca.transform(X_test)\n",
        "print(X_test.shape)"
      ],
      "execution_count": null,
      "outputs": [
        {
          "output_type": "stream",
          "text": [
            "(100, 10)\n",
            "(100, 8)\n"
          ],
          "name": "stdout"
        }
      ]
    },
    {
      "cell_type": "markdown",
      "metadata": {
        "id": "a3an86X4f7qo"
      },
      "source": [
        "## Model Training"
      ]
    },
    {
      "cell_type": "code",
      "metadata": {
        "colab": {
          "base_uri": "https://localhost:8080/"
        },
        "id": "CTRRS_P6oy5x",
        "outputId": "995f9129-2b67-4808-b21c-b1e757506cc0"
      },
      "source": [
        "from sklearn.svm import SVC\n",
        "classifier = SVC(kernel = 'rbf', random_state = 0,probability=True)\n",
        "classifier.fit(X_train, y_train)"
      ],
      "execution_count": null,
      "outputs": [
        {
          "output_type": "execute_result",
          "data": {
            "text/plain": [
              "SVC(C=1.0, break_ties=False, cache_size=200, class_weight=None, coef0=0.0,\n",
              "    decision_function_shape='ovr', degree=3, gamma='scale', kernel='rbf',\n",
              "    max_iter=-1, probability=True, random_state=0, shrinking=True, tol=0.001,\n",
              "    verbose=False)"
            ]
          },
          "metadata": {
            "tags": []
          },
          "execution_count": 178
        }
      ]
    },
    {
      "cell_type": "markdown",
      "metadata": {
        "id": "TcCKLAWCgDeM"
      },
      "source": [
        "##Prediction"
      ]
    },
    {
      "cell_type": "code",
      "metadata": {
        "colab": {
          "base_uri": "https://localhost:8080/"
        },
        "id": "cq1fjqPjo3GY",
        "outputId": "fe4bae10-235a-42a7-e01d-e71bbb265b44"
      },
      "source": [
        "y_pred = classifier.predict(X_test)\n",
        "accuracy = accuracy_score(y_test, y_pred)\n",
        "print('Model accuracy is: ', accuracy)"
      ],
      "execution_count": null,
      "outputs": [
        {
          "output_type": "stream",
          "text": [
            "Model accuracy is:  0.7\n"
          ],
          "name": "stdout"
        }
      ]
    },
    {
      "cell_type": "markdown",
      "metadata": {
        "id": "MEbHzk_3gHX-"
      },
      "source": [
        "##Plotting the Graph"
      ]
    },
    {
      "cell_type": "code",
      "metadata": {
        "colab": {
          "base_uri": "https://localhost:8080/",
          "height": 485
        },
        "id": "gE9V0WYQpcqA",
        "outputId": "48854837-26ce-4278-ed70-e1c606c041f2"
      },
      "source": [
        "from matplotlib.colors import ListedColormap\n",
        "X_set, y_set = X_test, y_test\n",
        "X1, X2 = np.meshgrid(np.arange(start = X_set[:, 0].min() - 1, stop = X_set[:, 0].max() + 1, step = 0.01),\n",
        "                     np.arange(start = X_set[:, 1].min() - 1, stop = X_set[:, 1].max() + 1, step = 0.01))\n",
        "plt.contourf(X1, X2, classifier.predict(np.array([X1.ravel(), X2.ravel()]).T).reshape(X1.shape),\n",
        "             alpha = 0.75, cmap = ListedColormap(('red', 'brown', 'blue','orange','pink','yellow','purple','magenta','black','green')))\n",
        "plt.xlim(X1.min(), X1.max())\n",
        "plt.ylim(X2.min(), X2.max())\n",
        "for i, j in enumerate(np.unique(y_set)):\n",
        "    plt.scatter(X_set[y_set == j, 0], X_set[y_set == j, 1],\n",
        "                c = ListedColormap(('red', 'brown', 'blue','orange','pink','yellow','purple','magenta','black','green'))(i), label = j)\n",
        "plt.title('SVM (Test set)')\n",
        "plt.xlabel('PC1')\n",
        "plt.ylabel('PC2')\n",
        "plt.legend()\n",
        "plt.show()"
      ],
      "execution_count": null,
      "outputs": [
        {
          "output_type": "stream",
          "text": [
            "*c* argument looks like a single numeric RGB or RGBA sequence, which should be avoided as value-mapping will have precedence in case its length matches with *x* & *y*.  Please use the *color* keyword-argument or provide a 2-D array with a single row if you intend to specify the same RGB or RGBA value for all points.\n",
            "*c* argument looks like a single numeric RGB or RGBA sequence, which should be avoided as value-mapping will have precedence in case its length matches with *x* & *y*.  Please use the *color* keyword-argument or provide a 2-D array with a single row if you intend to specify the same RGB or RGBA value for all points.\n",
            "*c* argument looks like a single numeric RGB or RGBA sequence, which should be avoided as value-mapping will have precedence in case its length matches with *x* & *y*.  Please use the *color* keyword-argument or provide a 2-D array with a single row if you intend to specify the same RGB or RGBA value for all points.\n",
            "*c* argument looks like a single numeric RGB or RGBA sequence, which should be avoided as value-mapping will have precedence in case its length matches with *x* & *y*.  Please use the *color* keyword-argument or provide a 2-D array with a single row if you intend to specify the same RGB or RGBA value for all points.\n",
            "*c* argument looks like a single numeric RGB or RGBA sequence, which should be avoided as value-mapping will have precedence in case its length matches with *x* & *y*.  Please use the *color* keyword-argument or provide a 2-D array with a single row if you intend to specify the same RGB or RGBA value for all points.\n",
            "*c* argument looks like a single numeric RGB or RGBA sequence, which should be avoided as value-mapping will have precedence in case its length matches with *x* & *y*.  Please use the *color* keyword-argument or provide a 2-D array with a single row if you intend to specify the same RGB or RGBA value for all points.\n",
            "*c* argument looks like a single numeric RGB or RGBA sequence, which should be avoided as value-mapping will have precedence in case its length matches with *x* & *y*.  Please use the *color* keyword-argument or provide a 2-D array with a single row if you intend to specify the same RGB or RGBA value for all points.\n",
            "*c* argument looks like a single numeric RGB or RGBA sequence, which should be avoided as value-mapping will have precedence in case its length matches with *x* & *y*.  Please use the *color* keyword-argument or provide a 2-D array with a single row if you intend to specify the same RGB or RGBA value for all points.\n",
            "*c* argument looks like a single numeric RGB or RGBA sequence, which should be avoided as value-mapping will have precedence in case its length matches with *x* & *y*.  Please use the *color* keyword-argument or provide a 2-D array with a single row if you intend to specify the same RGB or RGBA value for all points.\n",
            "*c* argument looks like a single numeric RGB or RGBA sequence, which should be avoided as value-mapping will have precedence in case its length matches with *x* & *y*.  Please use the *color* keyword-argument or provide a 2-D array with a single row if you intend to specify the same RGB or RGBA value for all points.\n"
          ],
          "name": "stderr"
        },
        {
          "output_type": "display_data",
          "data": {
            "image/png": "[encoded data removed]",
            "text/plain": [
              "<Figure size 432x288 with 1 Axes>"
            ]
          },
          "metadata": {
            "tags": [],
            "needs_background": "light"
          }
        }
      ]
    }
  ]
}